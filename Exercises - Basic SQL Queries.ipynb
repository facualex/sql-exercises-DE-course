{
 "cells": [
  {
   "cell_type": "markdown",
   "id": "d7e93a37",
   "metadata": {},
   "source": [
    "### Setup"
   ]
  },
  {
   "cell_type": "markdown",
   "id": "b29fa724",
   "metadata": {},
   "source": [
    "#### Load \"dotenv\" extension to use enviroment variables in the Notebook"
   ]
  },
  {
   "cell_type": "code",
   "execution_count": 4,
   "id": "cb515a99",
   "metadata": {},
   "outputs": [
    {
     "name": "stdout",
     "output_type": "stream",
     "text": [
      "The dotenv extension is already loaded. To reload it, use:\n",
      "  %reload_ext dotenv\n"
     ]
    }
   ],
   "source": [
    "%load_ext dotenv\n",
    "%dotenv"
   ]
  },
  {
   "cell_type": "markdown",
   "id": "760f2823",
   "metadata": {},
   "source": [
    "#### Load required libraries"
   ]
  },
  {
   "cell_type": "code",
   "execution_count": 5,
   "id": "6689a701",
   "metadata": {},
   "outputs": [],
   "source": [
    "from sqlalchemy import create_engine, text\n",
    "import psycopg2 as ps\n",
    "import pandas as pd\n",
    "import os"
   ]
  },
  {
   "cell_type": "markdown",
   "id": "12ec9c88",
   "metadata": {},
   "source": [
    "#### Setup database connection"
   ]
  },
  {
   "cell_type": "markdown",
   "id": "2c9cdba3",
   "metadata": {},
   "source": [
    "Make sure you create a `.env` file in the same directory as this notebook.\n",
    "\n",
    "Your `.env` file should contain the definition of the following variables:\n",
    "- DB_HOSTNAME\n",
    "- DB_PORT\n",
    "- DB_NAME\n",
    "- DB_USER\n",
    "- DB_PASS\n",
    "\n",
    "\n",
    "Example:\n",
    "```\n",
    "DB_HOSTNAME = \"localhost\"\n",
    "DB_PORT = 5432\n",
    "DB_NAME = \"retail_db\"\n",
    "DB_USER = \"retail_user\"\n",
    "DB_PASS = \"retailpassword\"\n",
    "```"
   ]
  },
  {
   "cell_type": "code",
   "execution_count": 6,
   "id": "5247890c",
   "metadata": {},
   "outputs": [],
   "source": [
    "DB_HOST = os.getenv(\"DB_HOSTNAME\")\n",
    "DB_PORT = os.getenv(\"DB_PORT\")\n",
    "DB_NAME = os.getenv(\"DB_NAME\")\n",
    "DB_USER = os.getenv(\"DB_USER\")\n",
    "DB_PASS = os.getenv(\"DB_PASS\")\n",
    "    \n",
    "DB_CONNECTION_URI = \"postgresql://%s:%s@%s:%s/%s\" % (DB_USER, DB_PASS, DB_HOST, DB_PORT, DB_NAME)\n",
    "\n",
    "# Create SQL engine with SQLAlchemy\n",
    "sql_engine = create_engine(DB_CONNECTION_URI)"
   ]
  },
  {
   "cell_type": "markdown",
   "id": "bc3b8904",
   "metadata": {},
   "source": [
    "> You can now execute queries to the database with pandas!"
   ]
  },
  {
   "cell_type": "markdown",
   "id": "71a58305",
   "metadata": {},
   "source": [
    "# Exercises - Basic SQL Queries"
   ]
  },
  {
   "cell_type": "markdown",
   "id": "1e307db1",
   "metadata": {},
   "source": [
    "Here are some of the exercises for which you can write SQL queries to self evaluate using all the concepts we have learnt to write SQL Queries.\n",
    "\n",
    "- All the exercises are based on the reatail database (retail tables).\n",
    "- We have already setup the tables and also populated the data.\n",
    "- We will use all the 6 tables in retail database as part of these exercises."
   ]
  },
  {
   "cell_type": "markdown",
   "id": "975fee07",
   "metadata": {},
   "source": [
    "## Solutions"
   ]
  },
  {
   "cell_type": "markdown",
   "id": "96851e0d",
   "metadata": {},
   "source": [
    "**NOTE:** You can run queries using pandas and SQLAlchemy as it follows:\n",
    "\n",
    "```python\n",
    "sql_df = pd.read_sql_query(\n",
    "    '''\n",
    "        SELECT *\n",
    "        FROM courses\n",
    "        ORDER BY course_id;\n",
    "    ''',\n",
    "    con = sql_engine\n",
    ")\n",
    " \n",
    "# Show query results\n",
    "sql_df\n",
    "```"
   ]
  },
  {
   "cell_type": "markdown",
   "id": "774369e9",
   "metadata": {},
   "source": [
    "### Exercise 1 - Customer order count"
   ]
  },
  {
   "cell_type": "markdown",
   "id": "f09c254a",
   "metadata": {},
   "source": [
    "Get order count per customer for the month of 2014 January.\n",
    "\n",
    "- Tables - `orders` and `customers`\n",
    "- Data should be sorted in descending order by count and ascending order by customer id\n",
    "- Output should contain `customer_id`, `customer_fname`, `customer_lname` and `customer_order_count`."
   ]
  },
  {
   "cell_type": "code",
   "execution_count": null,
   "id": "31e7623d",
   "metadata": {},
   "outputs": [],
   "source": [
    "sql_df = pd.read_sql_query(\n",
    "    '''\n",
    "        YOUR QUERY HERE\n",
    "    ''',\n",
    "    con = sql_engine\n",
    ")\n",
    " \n",
    "# Show query results\n",
    "sql_df"
   ]
  },
  {
   "cell_type": "markdown",
   "id": "3d1aa016",
   "metadata": {},
   "source": [
    "### Exercise 2 - Dormant Customers"
   ]
  },
  {
   "cell_type": "markdown",
   "id": "60fc8fb2",
   "metadata": {},
   "source": [
    "Get the customer details who have not placed any order for the month of 2014 january.\n",
    "\n",
    "- Tables - `orders` and `customers`\n",
    "- Output columns - All columns from `customers`\n",
    "- Data should be sorted in ascending order by `customer_id`\n",
    "- Output should contain all the fields from `customers`"
   ]
  },
  {
   "cell_type": "markdown",
   "id": "73bbee0d",
   "metadata": {},
   "source": [
    "> HINT: You can use `NOT IN` or `NOT EXISTS` or `OUTER JOIN` to solve this problem."
   ]
  },
  {
   "cell_type": "code",
   "execution_count": 16,
   "id": "2576a582",
   "metadata": {},
   "outputs": [
    {
     "ename": "ProgrammingError",
     "evalue": "(psycopg2.errors.SyntaxError) syntax error at or near \"YOUR\"\nLINE 2:         YOUR QUERY HERE\n                ^\n\n[SQL: \n        YOUR QUERY HERE\n    ]\n(Background on this error at: https://sqlalche.me/e/14/f405)",
     "output_type": "error",
     "traceback": [
      "\u001b[0;31m---------------------------------------------------------------------------\u001b[0m",
      "\u001b[0;31mSyntaxError\u001b[0m                               Traceback (most recent call last)",
      "File \u001b[0;32m~/miniconda3/envs/sql-exercises-DE-course/lib/python3.11/site-packages/sqlalchemy/engine/base.py:1910\u001b[0m, in \u001b[0;36mConnection._execute_context\u001b[0;34m(self, dialect, constructor, statement, parameters, execution_options, *args, **kw)\u001b[0m\n\u001b[1;32m   1909\u001b[0m     \u001b[38;5;28;01mif\u001b[39;00m \u001b[38;5;129;01mnot\u001b[39;00m evt_handled:\n\u001b[0;32m-> 1910\u001b[0m         \u001b[38;5;28mself\u001b[39m\u001b[38;5;241m.\u001b[39mdialect\u001b[38;5;241m.\u001b[39mdo_execute(\n\u001b[1;32m   1911\u001b[0m             cursor, statement, parameters, context\n\u001b[1;32m   1912\u001b[0m         )\n\u001b[1;32m   1914\u001b[0m \u001b[38;5;28;01mif\u001b[39;00m \u001b[38;5;28mself\u001b[39m\u001b[38;5;241m.\u001b[39m_has_events \u001b[38;5;129;01mor\u001b[39;00m \u001b[38;5;28mself\u001b[39m\u001b[38;5;241m.\u001b[39mengine\u001b[38;5;241m.\u001b[39m_has_events:\n",
      "File \u001b[0;32m~/miniconda3/envs/sql-exercises-DE-course/lib/python3.11/site-packages/sqlalchemy/engine/default.py:736\u001b[0m, in \u001b[0;36mDefaultDialect.do_execute\u001b[0;34m(self, cursor, statement, parameters, context)\u001b[0m\n\u001b[1;32m    735\u001b[0m \u001b[38;5;28;01mdef\u001b[39;00m \u001b[38;5;21mdo_execute\u001b[39m(\u001b[38;5;28mself\u001b[39m, cursor, statement, parameters, context\u001b[38;5;241m=\u001b[39m\u001b[38;5;28;01mNone\u001b[39;00m):\n\u001b[0;32m--> 736\u001b[0m     cursor\u001b[38;5;241m.\u001b[39mexecute(statement, parameters)\n",
      "\u001b[0;31mSyntaxError\u001b[0m: syntax error at or near \"YOUR\"\nLINE 2:         YOUR QUERY HERE\n                ^\n",
      "\nThe above exception was the direct cause of the following exception:\n",
      "\u001b[0;31mProgrammingError\u001b[0m                          Traceback (most recent call last)",
      "Cell \u001b[0;32mIn[16], line 2\u001b[0m\n\u001b[1;32m      1\u001b[0m \u001b[38;5;66;03m# Get the difference\u001b[39;00m\n\u001b[0;32m----> 2\u001b[0m sql_df \u001b[38;5;241m=\u001b[39m pd\u001b[38;5;241m.\u001b[39mread_sql_query(\n\u001b[1;32m      3\u001b[0m \u001b[38;5;250m    \u001b[39m\u001b[38;5;124;03m'''\u001b[39;00m\n\u001b[1;32m      4\u001b[0m \u001b[38;5;124;03m        YOUR QUERY HERE\u001b[39;00m\n\u001b[1;32m      5\u001b[0m \u001b[38;5;124;03m    '''\u001b[39;00m,\n\u001b[1;32m      6\u001b[0m     con \u001b[38;5;241m=\u001b[39m sql_engine\n\u001b[1;32m      7\u001b[0m )\n\u001b[1;32m      9\u001b[0m \u001b[38;5;66;03m# Show query results\u001b[39;00m\n\u001b[1;32m     10\u001b[0m sql_df\n",
      "File \u001b[0;32m~/miniconda3/envs/sql-exercises-DE-course/lib/python3.11/site-packages/pandas/io/sql.py:397\u001b[0m, in \u001b[0;36mread_sql_query\u001b[0;34m(sql, con, index_col, coerce_float, params, parse_dates, chunksize, dtype)\u001b[0m\n\u001b[1;32m    339\u001b[0m \u001b[38;5;250m\u001b[39m\u001b[38;5;124;03m\"\"\"\u001b[39;00m\n\u001b[1;32m    340\u001b[0m \u001b[38;5;124;03mRead SQL query into a DataFrame.\u001b[39;00m\n\u001b[1;32m    341\u001b[0m \n\u001b[0;32m   (...)\u001b[0m\n\u001b[1;32m    394\u001b[0m \u001b[38;5;124;03mparameter will be converted to UTC.\u001b[39;00m\n\u001b[1;32m    395\u001b[0m \u001b[38;5;124;03m\"\"\"\u001b[39;00m\n\u001b[1;32m    396\u001b[0m pandas_sql \u001b[38;5;241m=\u001b[39m pandasSQL_builder(con)\n\u001b[0;32m--> 397\u001b[0m \u001b[38;5;28;01mreturn\u001b[39;00m pandas_sql\u001b[38;5;241m.\u001b[39mread_query(\n\u001b[1;32m    398\u001b[0m     sql,\n\u001b[1;32m    399\u001b[0m     index_col\u001b[38;5;241m=\u001b[39mindex_col,\n\u001b[1;32m    400\u001b[0m     params\u001b[38;5;241m=\u001b[39mparams,\n\u001b[1;32m    401\u001b[0m     coerce_float\u001b[38;5;241m=\u001b[39mcoerce_float,\n\u001b[1;32m    402\u001b[0m     parse_dates\u001b[38;5;241m=\u001b[39mparse_dates,\n\u001b[1;32m    403\u001b[0m     chunksize\u001b[38;5;241m=\u001b[39mchunksize,\n\u001b[1;32m    404\u001b[0m     dtype\u001b[38;5;241m=\u001b[39mdtype,\n\u001b[1;32m    405\u001b[0m )\n",
      "File \u001b[0;32m~/miniconda3/envs/sql-exercises-DE-course/lib/python3.11/site-packages/pandas/io/sql.py:1560\u001b[0m, in \u001b[0;36mSQLDatabase.read_query\u001b[0;34m(self, sql, index_col, coerce_float, parse_dates, params, chunksize, dtype)\u001b[0m\n\u001b[1;32m   1512\u001b[0m \u001b[38;5;250m\u001b[39m\u001b[38;5;124;03m\"\"\"\u001b[39;00m\n\u001b[1;32m   1513\u001b[0m \u001b[38;5;124;03mRead SQL query into a DataFrame.\u001b[39;00m\n\u001b[1;32m   1514\u001b[0m \n\u001b[0;32m   (...)\u001b[0m\n\u001b[1;32m   1556\u001b[0m \n\u001b[1;32m   1557\u001b[0m \u001b[38;5;124;03m\"\"\"\u001b[39;00m\n\u001b[1;32m   1558\u001b[0m args \u001b[38;5;241m=\u001b[39m _convert_params(sql, params)\n\u001b[0;32m-> 1560\u001b[0m result \u001b[38;5;241m=\u001b[39m \u001b[38;5;28mself\u001b[39m\u001b[38;5;241m.\u001b[39mexecute(\u001b[38;5;241m*\u001b[39margs)\n\u001b[1;32m   1561\u001b[0m columns \u001b[38;5;241m=\u001b[39m result\u001b[38;5;241m.\u001b[39mkeys()\n\u001b[1;32m   1563\u001b[0m \u001b[38;5;28;01mif\u001b[39;00m chunksize \u001b[38;5;129;01mis\u001b[39;00m \u001b[38;5;129;01mnot\u001b[39;00m \u001b[38;5;28;01mNone\u001b[39;00m:\n",
      "File \u001b[0;32m~/miniconda3/envs/sql-exercises-DE-course/lib/python3.11/site-packages/pandas/io/sql.py:1405\u001b[0m, in \u001b[0;36mSQLDatabase.execute\u001b[0;34m(self, *args, **kwargs)\u001b[0m\n\u001b[1;32m   1403\u001b[0m \u001b[38;5;28;01mdef\u001b[39;00m \u001b[38;5;21mexecute\u001b[39m(\u001b[38;5;28mself\u001b[39m, \u001b[38;5;241m*\u001b[39margs, \u001b[38;5;241m*\u001b[39m\u001b[38;5;241m*\u001b[39mkwargs):\n\u001b[1;32m   1404\u001b[0m \u001b[38;5;250m    \u001b[39m\u001b[38;5;124;03m\"\"\"Simple passthrough to SQLAlchemy connectable\"\"\"\u001b[39;00m\n\u001b[0;32m-> 1405\u001b[0m     \u001b[38;5;28;01mreturn\u001b[39;00m \u001b[38;5;28mself\u001b[39m\u001b[38;5;241m.\u001b[39mconnectable\u001b[38;5;241m.\u001b[39mexecution_options()\u001b[38;5;241m.\u001b[39mexecute(\u001b[38;5;241m*\u001b[39margs, \u001b[38;5;241m*\u001b[39m\u001b[38;5;241m*\u001b[39mkwargs)\n",
      "File \u001b[0;32m<string>:2\u001b[0m, in \u001b[0;36mexecute\u001b[0;34m(self, statement, *multiparams, **params)\u001b[0m\n",
      "File \u001b[0;32m~/miniconda3/envs/sql-exercises-DE-course/lib/python3.11/site-packages/sqlalchemy/util/deprecations.py:468\u001b[0m, in \u001b[0;36m_decorate_with_warning.<locals>.warned\u001b[0;34m(fn, *args, **kwargs)\u001b[0m\n\u001b[1;32m    466\u001b[0m \u001b[38;5;28;01mif\u001b[39;00m \u001b[38;5;129;01mnot\u001b[39;00m skip_warning:\n\u001b[1;32m    467\u001b[0m     _warn_with_version(message, version, wtype, stacklevel\u001b[38;5;241m=\u001b[39m\u001b[38;5;241m3\u001b[39m)\n\u001b[0;32m--> 468\u001b[0m \u001b[38;5;28;01mreturn\u001b[39;00m fn(\u001b[38;5;241m*\u001b[39margs, \u001b[38;5;241m*\u001b[39m\u001b[38;5;241m*\u001b[39mkwargs)\n",
      "File \u001b[0;32m~/miniconda3/envs/sql-exercises-DE-course/lib/python3.11/site-packages/sqlalchemy/engine/base.py:3267\u001b[0m, in \u001b[0;36mEngine.execute\u001b[0;34m(self, statement, *multiparams, **params)\u001b[0m\n\u001b[1;32m   3249\u001b[0m \u001b[38;5;250m\u001b[39m\u001b[38;5;124;03m\"\"\"Executes the given construct and returns a\u001b[39;00m\n\u001b[1;32m   3250\u001b[0m \u001b[38;5;124;03m:class:`_engine.CursorResult`.\u001b[39;00m\n\u001b[1;32m   3251\u001b[0m \n\u001b[0;32m   (...)\u001b[0m\n\u001b[1;32m   3264\u001b[0m \n\u001b[1;32m   3265\u001b[0m \u001b[38;5;124;03m\"\"\"\u001b[39;00m\n\u001b[1;32m   3266\u001b[0m connection \u001b[38;5;241m=\u001b[39m \u001b[38;5;28mself\u001b[39m\u001b[38;5;241m.\u001b[39mconnect(close_with_result\u001b[38;5;241m=\u001b[39m\u001b[38;5;28;01mTrue\u001b[39;00m)\n\u001b[0;32m-> 3267\u001b[0m \u001b[38;5;28;01mreturn\u001b[39;00m connection\u001b[38;5;241m.\u001b[39mexecute(statement, \u001b[38;5;241m*\u001b[39mmultiparams, \u001b[38;5;241m*\u001b[39m\u001b[38;5;241m*\u001b[39mparams)\n",
      "File \u001b[0;32m~/miniconda3/envs/sql-exercises-DE-course/lib/python3.11/site-packages/sqlalchemy/engine/base.py:1370\u001b[0m, in \u001b[0;36mConnection.execute\u001b[0;34m(self, statement, *multiparams, **params)\u001b[0m\n\u001b[1;32m   1361\u001b[0m \u001b[38;5;28;01mif\u001b[39;00m \u001b[38;5;28misinstance\u001b[39m(statement, util\u001b[38;5;241m.\u001b[39mstring_types):\n\u001b[1;32m   1362\u001b[0m     util\u001b[38;5;241m.\u001b[39mwarn_deprecated_20(\n\u001b[1;32m   1363\u001b[0m         \u001b[38;5;124m\"\u001b[39m\u001b[38;5;124mPassing a string to Connection.execute() is \u001b[39m\u001b[38;5;124m\"\u001b[39m\n\u001b[1;32m   1364\u001b[0m         \u001b[38;5;124m\"\u001b[39m\u001b[38;5;124mdeprecated and will be removed in version 2.0.  Use the \u001b[39m\u001b[38;5;124m\"\u001b[39m\n\u001b[0;32m   (...)\u001b[0m\n\u001b[1;32m   1367\u001b[0m         \u001b[38;5;124m\"\u001b[39m\u001b[38;5;124mdriver-level SQL string.\u001b[39m\u001b[38;5;124m\"\u001b[39m\n\u001b[1;32m   1368\u001b[0m     )\n\u001b[0;32m-> 1370\u001b[0m     \u001b[38;5;28;01mreturn\u001b[39;00m \u001b[38;5;28mself\u001b[39m\u001b[38;5;241m.\u001b[39m_exec_driver_sql(\n\u001b[1;32m   1371\u001b[0m         statement,\n\u001b[1;32m   1372\u001b[0m         multiparams,\n\u001b[1;32m   1373\u001b[0m         params,\n\u001b[1;32m   1374\u001b[0m         _EMPTY_EXECUTION_OPTS,\n\u001b[1;32m   1375\u001b[0m         future\u001b[38;5;241m=\u001b[39m\u001b[38;5;28;01mFalse\u001b[39;00m,\n\u001b[1;32m   1376\u001b[0m     )\n\u001b[1;32m   1378\u001b[0m \u001b[38;5;28;01mtry\u001b[39;00m:\n\u001b[1;32m   1379\u001b[0m     meth \u001b[38;5;241m=\u001b[39m statement\u001b[38;5;241m.\u001b[39m_execute_on_connection\n",
      "File \u001b[0;32m~/miniconda3/envs/sql-exercises-DE-course/lib/python3.11/site-packages/sqlalchemy/engine/base.py:1674\u001b[0m, in \u001b[0;36mConnection._exec_driver_sql\u001b[0;34m(self, statement, multiparams, params, execution_options, future)\u001b[0m\n\u001b[1;32m   1664\u001b[0m         (\n\u001b[1;32m   1665\u001b[0m             statement,\n\u001b[1;32m   1666\u001b[0m             distilled_params,\n\u001b[0;32m   (...)\u001b[0m\n\u001b[1;32m   1670\u001b[0m             statement, distilled_parameters, execution_options\n\u001b[1;32m   1671\u001b[0m         )\n\u001b[1;32m   1673\u001b[0m dialect \u001b[38;5;241m=\u001b[39m \u001b[38;5;28mself\u001b[39m\u001b[38;5;241m.\u001b[39mdialect\n\u001b[0;32m-> 1674\u001b[0m ret \u001b[38;5;241m=\u001b[39m \u001b[38;5;28mself\u001b[39m\u001b[38;5;241m.\u001b[39m_execute_context(\n\u001b[1;32m   1675\u001b[0m     dialect,\n\u001b[1;32m   1676\u001b[0m     dialect\u001b[38;5;241m.\u001b[39mexecution_ctx_cls\u001b[38;5;241m.\u001b[39m_init_statement,\n\u001b[1;32m   1677\u001b[0m     statement,\n\u001b[1;32m   1678\u001b[0m     distilled_parameters,\n\u001b[1;32m   1679\u001b[0m     execution_options,\n\u001b[1;32m   1680\u001b[0m     statement,\n\u001b[1;32m   1681\u001b[0m     distilled_parameters,\n\u001b[1;32m   1682\u001b[0m )\n\u001b[1;32m   1684\u001b[0m \u001b[38;5;28;01mif\u001b[39;00m \u001b[38;5;129;01mnot\u001b[39;00m future:\n\u001b[1;32m   1685\u001b[0m     \u001b[38;5;28;01mif\u001b[39;00m \u001b[38;5;28mself\u001b[39m\u001b[38;5;241m.\u001b[39m_has_events \u001b[38;5;129;01mor\u001b[39;00m \u001b[38;5;28mself\u001b[39m\u001b[38;5;241m.\u001b[39mengine\u001b[38;5;241m.\u001b[39m_has_events:\n",
      "File \u001b[0;32m~/miniconda3/envs/sql-exercises-DE-course/lib/python3.11/site-packages/sqlalchemy/engine/base.py:1953\u001b[0m, in \u001b[0;36mConnection._execute_context\u001b[0;34m(self, dialect, constructor, statement, parameters, execution_options, *args, **kw)\u001b[0m\n\u001b[1;32m   1950\u001b[0m             branched\u001b[38;5;241m.\u001b[39mclose()\n\u001b[1;32m   1952\u001b[0m \u001b[38;5;28;01mexcept\u001b[39;00m \u001b[38;5;167;01mBaseException\u001b[39;00m \u001b[38;5;28;01mas\u001b[39;00m e:\n\u001b[0;32m-> 1953\u001b[0m     \u001b[38;5;28mself\u001b[39m\u001b[38;5;241m.\u001b[39m_handle_dbapi_exception(\n\u001b[1;32m   1954\u001b[0m         e, statement, parameters, cursor, context\n\u001b[1;32m   1955\u001b[0m     )\n\u001b[1;32m   1957\u001b[0m \u001b[38;5;28;01mreturn\u001b[39;00m result\n",
      "File \u001b[0;32m~/miniconda3/envs/sql-exercises-DE-course/lib/python3.11/site-packages/sqlalchemy/engine/base.py:2134\u001b[0m, in \u001b[0;36mConnection._handle_dbapi_exception\u001b[0;34m(self, e, statement, parameters, cursor, context)\u001b[0m\n\u001b[1;32m   2132\u001b[0m     util\u001b[38;5;241m.\u001b[39mraise_(newraise, with_traceback\u001b[38;5;241m=\u001b[39mexc_info[\u001b[38;5;241m2\u001b[39m], from_\u001b[38;5;241m=\u001b[39me)\n\u001b[1;32m   2133\u001b[0m \u001b[38;5;28;01melif\u001b[39;00m should_wrap:\n\u001b[0;32m-> 2134\u001b[0m     util\u001b[38;5;241m.\u001b[39mraise_(\n\u001b[1;32m   2135\u001b[0m         sqlalchemy_exception, with_traceback\u001b[38;5;241m=\u001b[39mexc_info[\u001b[38;5;241m2\u001b[39m], from_\u001b[38;5;241m=\u001b[39me\n\u001b[1;32m   2136\u001b[0m     )\n\u001b[1;32m   2137\u001b[0m \u001b[38;5;28;01melse\u001b[39;00m:\n\u001b[1;32m   2138\u001b[0m     util\u001b[38;5;241m.\u001b[39mraise_(exc_info[\u001b[38;5;241m1\u001b[39m], with_traceback\u001b[38;5;241m=\u001b[39mexc_info[\u001b[38;5;241m2\u001b[39m])\n",
      "File \u001b[0;32m~/miniconda3/envs/sql-exercises-DE-course/lib/python3.11/site-packages/sqlalchemy/util/compat.py:211\u001b[0m, in \u001b[0;36mraise_\u001b[0;34m(***failed resolving arguments***)\u001b[0m\n\u001b[1;32m    208\u001b[0m     exception\u001b[38;5;241m.\u001b[39m__cause__ \u001b[38;5;241m=\u001b[39m replace_context\n\u001b[1;32m    210\u001b[0m \u001b[38;5;28;01mtry\u001b[39;00m:\n\u001b[0;32m--> 211\u001b[0m     \u001b[38;5;28;01mraise\u001b[39;00m exception\n\u001b[1;32m    212\u001b[0m \u001b[38;5;28;01mfinally\u001b[39;00m:\n\u001b[1;32m    213\u001b[0m     \u001b[38;5;66;03m# credit to\u001b[39;00m\n\u001b[1;32m    214\u001b[0m     \u001b[38;5;66;03m# https://cosmicpercolator.com/2016/01/13/exception-leaks-in-python-2-and-3/\u001b[39;00m\n\u001b[1;32m    215\u001b[0m     \u001b[38;5;66;03m# as the __traceback__ object creates a cycle\u001b[39;00m\n\u001b[1;32m    216\u001b[0m     \u001b[38;5;28;01mdel\u001b[39;00m exception, replace_context, from_, with_traceback\n",
      "File \u001b[0;32m~/miniconda3/envs/sql-exercises-DE-course/lib/python3.11/site-packages/sqlalchemy/engine/base.py:1910\u001b[0m, in \u001b[0;36mConnection._execute_context\u001b[0;34m(self, dialect, constructor, statement, parameters, execution_options, *args, **kw)\u001b[0m\n\u001b[1;32m   1908\u001b[0m                 \u001b[38;5;28;01mbreak\u001b[39;00m\n\u001b[1;32m   1909\u001b[0m     \u001b[38;5;28;01mif\u001b[39;00m \u001b[38;5;129;01mnot\u001b[39;00m evt_handled:\n\u001b[0;32m-> 1910\u001b[0m         \u001b[38;5;28mself\u001b[39m\u001b[38;5;241m.\u001b[39mdialect\u001b[38;5;241m.\u001b[39mdo_execute(\n\u001b[1;32m   1911\u001b[0m             cursor, statement, parameters, context\n\u001b[1;32m   1912\u001b[0m         )\n\u001b[1;32m   1914\u001b[0m \u001b[38;5;28;01mif\u001b[39;00m \u001b[38;5;28mself\u001b[39m\u001b[38;5;241m.\u001b[39m_has_events \u001b[38;5;129;01mor\u001b[39;00m \u001b[38;5;28mself\u001b[39m\u001b[38;5;241m.\u001b[39mengine\u001b[38;5;241m.\u001b[39m_has_events:\n\u001b[1;32m   1915\u001b[0m     \u001b[38;5;28mself\u001b[39m\u001b[38;5;241m.\u001b[39mdispatch\u001b[38;5;241m.\u001b[39mafter_cursor_execute(\n\u001b[1;32m   1916\u001b[0m         \u001b[38;5;28mself\u001b[39m,\n\u001b[1;32m   1917\u001b[0m         cursor,\n\u001b[0;32m   (...)\u001b[0m\n\u001b[1;32m   1921\u001b[0m         context\u001b[38;5;241m.\u001b[39mexecutemany,\n\u001b[1;32m   1922\u001b[0m     )\n",
      "File \u001b[0;32m~/miniconda3/envs/sql-exercises-DE-course/lib/python3.11/site-packages/sqlalchemy/engine/default.py:736\u001b[0m, in \u001b[0;36mDefaultDialect.do_execute\u001b[0;34m(self, cursor, statement, parameters, context)\u001b[0m\n\u001b[1;32m    735\u001b[0m \u001b[38;5;28;01mdef\u001b[39;00m \u001b[38;5;21mdo_execute\u001b[39m(\u001b[38;5;28mself\u001b[39m, cursor, statement, parameters, context\u001b[38;5;241m=\u001b[39m\u001b[38;5;28;01mNone\u001b[39;00m):\n\u001b[0;32m--> 736\u001b[0m     cursor\u001b[38;5;241m.\u001b[39mexecute(statement, parameters)\n",
      "\u001b[0;31mProgrammingError\u001b[0m: (psycopg2.errors.SyntaxError) syntax error at or near \"YOUR\"\nLINE 2:         YOUR QUERY HERE\n                ^\n\n[SQL: \n        YOUR QUERY HERE\n    ]\n(Background on this error at: https://sqlalche.me/e/14/f405)"
     ]
    }
   ],
   "source": [
    "sql_df = pd.read_sql_query(\n",
    "    '''\n",
    "        YOUR QUERY HERE\n",
    "    ''',\n",
    "    con = sql_engine\n",
    ")\n",
    " \n",
    "# Show query results\n",
    "sql_df"
   ]
  },
  {
   "cell_type": "markdown",
   "id": "35ae8acf",
   "metadata": {},
   "source": [
    "### Exercise 3"
   ]
  },
  {
   "cell_type": "markdown",
   "id": "03f69c08",
   "metadata": {},
   "source": [
    "Get the revenue generated by each customer for the month of 2014 january.\n",
    "\n",
    "- Tables - `orders`, `order_items` and `customers`\n",
    "- Data should be sorted in descending order by revenue and then ascending order by `customer_id`\n",
    "- Output should contain `customer_id`, `customer_fname`, `customer_lname`and `customer_revenue`.\n",
    "- If there are no orders placed by customer, then the corresponding revenue for a given customer should be 0.\n",
    "- Consider only `COMPLETE` and `CLOSED` orders."
   ]
  },
  {
   "cell_type": "code",
   "execution_count": null,
   "id": "fd568bbf",
   "metadata": {},
   "outputs": [],
   "source": [
    "sql_df = pd.read_sql_query(\n",
    "    '''\n",
    "        YOUR QUERY HERE\n",
    "    ''',\n",
    "    con = sql_engine\n",
    ")\n",
    " \n",
    "# Show query results\n",
    "sql_df"
   ]
  },
  {
   "cell_type": "markdown",
   "id": "ab0aa3f0",
   "metadata": {},
   "source": [
    "### Exercise 4"
   ]
  },
  {
   "cell_type": "markdown",
   "id": "56163b1e",
   "metadata": {},
   "source": [
    "Get the revenue generated for each category for the month of 2014 january.\n",
    "\n",
    "\n",
    "- Tables - `orders`, `order_items`, `products` and `categories`\n",
    "- Data should be sorted in ascending order by `category_id`\n",
    "- Output should contain all the field from `categories` along with the revenue as `category_revenue`\n",
    "- Consider only `COMPLETE` and `CLOSED` orders."
   ]
  },
  {
   "cell_type": "code",
   "execution_count": null,
   "id": "1aa33cf2",
   "metadata": {},
   "outputs": [],
   "source": [
    "sql_df = pd.read_sql_query(\n",
    "    '''\n",
    "        YOUR QUERY HERE\n",
    "    ''',\n",
    "    con = sql_engine\n",
    ")\n",
    " \n",
    "# Show query results\n",
    "sql_dfs"
   ]
  },
  {
   "cell_type": "markdown",
   "id": "65388416",
   "metadata": {},
   "source": [
    "### Exercise 5"
   ]
  },
  {
   "cell_type": "markdown",
   "id": "dad0a625",
   "metadata": {},
   "source": [
    "Get the count of products for each department.\n",
    "- Tables - `departments`, `categories`, `products``\n",
    "- Data should be sorted in ascending order by `deparment_id``\n",
    "- Output should contain all the fields from departments and the product count as `product_count`"
   ]
  },
  {
   "cell_type": "code",
   "execution_count": null,
   "id": "320ca8ec",
   "metadata": {},
   "outputs": [],
   "source": [
    "sql_df = pd.read_sql_query(\n",
    "    '''\n",
    "        YOUR QUERY HERE\n",
    "    ''',\n",
    "    con = sql_engine\n",
    ")\n",
    " \n",
    "# Show query results\n",
    "sql_df"
   ]
  }
 ],
 "metadata": {
  "kernelspec": {
   "display_name": "Python 3 (ipykernel)",
   "language": "python",
   "name": "python3"
  },
  "language_info": {
   "codemirror_mode": {
    "name": "ipython",
    "version": 3
   },
   "file_extension": ".py",
   "mimetype": "text/x-python",
   "name": "python",
   "nbconvert_exporter": "python",
   "pygments_lexer": "ipython3",
   "version": "3.11.4"
  }
 },
 "nbformat": 4,
 "nbformat_minor": 5
}
