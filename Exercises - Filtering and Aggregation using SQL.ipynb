{
 "cells": [
  {
   "cell_type": "markdown",
   "id": "d7e93a37",
   "metadata": {},
   "source": [
    "### Setup"
   ]
  },
  {
   "cell_type": "markdown",
   "id": "b29fa724",
   "metadata": {},
   "source": [
    "#### Load \"dotenv\" extension to use enviroment variables in the Notebook"
   ]
  },
  {
   "cell_type": "code",
   "execution_count": 2,
   "id": "cb515a99",
   "metadata": {},
   "outputs": [],
   "source": [
    "%load_ext dotenv\n",
    "%dotenv"
   ]
  },
  {
   "cell_type": "markdown",
   "id": "760f2823",
   "metadata": {},
   "source": [
    "#### Load required libraries"
   ]
  },
  {
   "cell_type": "code",
   "execution_count": 3,
   "id": "6689a701",
   "metadata": {},
   "outputs": [],
   "source": [
    "from sqlalchemy import create_engine, text, execute\n",
    "import psycopg2 as ps\n",
    "import pandas as pd\n",
    "import os"
   ]
  },
  {
   "cell_type": "markdown",
   "id": "12ec9c88",
   "metadata": {},
   "source": [
    "#### Setup database connection"
   ]
  },
  {
   "cell_type": "markdown",
   "id": "2c9cdba3",
   "metadata": {},
   "source": [
    "Make sure you create a `.env` file in the same directory as this notebook.\n",
    "\n",
    "Your `.env` file should contain the definition of the following variables:\n",
    "- DB_HOSTNAME\n",
    "- DB_PORT\n",
    "- DB_NAME\n",
    "- DB_USER\n",
    "- DB_PASS\n",
    "\n",
    "\n",
    "Example:\n",
    "```\n",
    "DB_HOSTNAME = \"localhost\"\n",
    "DB_PORT = 5432\n",
    "DB_NAME = \"retail_db\"\n",
    "DB_USER = \"retail_user\"\n",
    "DB_PASS = \"retailpassword\"\n",
    "```"
   ]
  },
  {
   "cell_type": "code",
   "execution_count": 12,
   "id": "5247890c",
   "metadata": {},
   "outputs": [],
   "source": [
    "DB_HOST = os.getenv(\"DB_HOSTNAME\")\n",
    "DB_PORT = os.getenv(\"DB_PORT\")\n",
    "DB_NAME = os.getenv(\"DB_NAME\")\n",
    "DB_USER = os.getenv(\"DB_USER\")\n",
    "DB_PASS = os.getenv(\"DB_PASS\")\n",
    "    \n",
    "DB_CONNECTION_URI = \"postgresql://%s:%s@%s:%s/%s\" % (DB_USER, DB_PASS, DB_HOST, DB_PORT, DB_NAME)\n",
    "\n",
    "# Create SQL engine with SQLAlchemy\n",
    "sql_engine = create_engine(DB_CONNECTION_URI)"
   ]
  },
  {
   "cell_type": "markdown",
   "id": "bc3b8904",
   "metadata": {},
   "source": [
    "> You can now execute queries to the database with pandas!"
   ]
  },
  {
   "cell_type": "markdown",
   "id": "71a58305",
   "metadata": {},
   "source": [
    "# Exercises - Filtering and Aggregation"
   ]
  },
  {
   "cell_type": "markdown",
   "id": "1e307db1",
   "metadata": {},
   "source": [
    "Let us take care of exercises related to filtering and aggregations using SQL:\n",
    "\n",
    "- Get all the courses which are in `inactive` or `draft` status.\n",
    "- Get all the courses which are related to `Python` or `Scala`\n",
    "- Get count of courses by `course_status`\n",
    "- Get count of published courses by `course_author`\n",
    "- Get all the `Python` or `Scala` related courses in `draft` status.\n",
    "- Get the author and count where the author have more than **one published** course."
   ]
  },
  {
   "cell_type": "markdown",
   "id": "6d2e0697",
   "metadata": {},
   "source": [
    "## Create and populate the table we are working with."
   ]
  },
  {
   "cell_type": "code",
   "execution_count": 19,
   "id": "c3808af8",
   "metadata": {},
   "outputs": [
    {
     "data": {
      "text/plain": [
       "<sqlalchemy.engine.cursor.LegacyCursorResult at 0x14fb89110>"
      ]
     },
     "execution_count": 19,
     "metadata": {},
     "output_type": "execute_result"
    }
   ],
   "source": [
    "sql_engine.execute('DROP TABLE IF EXISTS courses')\n",
    "\n",
    "sql_engine.execute('''\n",
    "    CREATE TABLE courses(\n",
    "        course_id SERIAL PRIMARY KEY,\n",
    "        course_name VARCHAR(60),\n",
    "        course_author VARCHAR(40),\n",
    "        course_status VARCHAR(9),\n",
    "        course_published_dt DATE\n",
    "    )\n",
    "''')\n",
    "\n",
    "sql_engine.execute('''\n",
    "    INSERT INTO courses\n",
    "        (course_name, course_author, course_status, course_published_dt)\n",
    "    VALUES\n",
    "        ('Programming using Python', 'Bob Dillon', 'published', '2020-09-30'),\n",
    "        ('Data Engineering using Python', 'Bob Dillon', 'published', '2020-07-15'),\n",
    "        ('Data Engineering using Scala', 'Elvis Presley', 'draft', null),\n",
    "        ('Programming using Scala', 'Elvis Presley', 'published', '2020-05-12'),\n",
    "        ('Programming using Java', 'Mike Jack', 'inactive', '2020-08-10'),\n",
    "        ('Web Applications - Python Flask', 'Bob Dillon', 'inactive', '2020-07-20'),\n",
    "        ('Web Applications - Java Spring', 'Bob Dillon', 'draft', null),\n",
    "        ('Pipeline Orchestration - Python', 'Bob Dillon', 'draft', null),\n",
    "        ('Streaming Pipelines - Python', 'Bob Dillon', 'published', '2020-10-05'),\n",
    "        ('Web Applications - Scala Play', 'Elvis Presley', 'inactive', '2020-09-30'),\n",
    "        ('Web Applications - Python Django', 'Bob Dillon', 'published', '2020-06-23'),\n",
    "        ('Server Automation - Ansible', 'Uncle Sam', 'published', '2020-07-05')\n",
    "''')"
   ]
  },
  {
   "cell_type": "markdown",
   "id": "975fee07",
   "metadata": {},
   "source": [
    "## Solutions"
   ]
  },
  {
   "cell_type": "markdown",
   "id": "96851e0d",
   "metadata": {},
   "source": [
    "**NOTE:** You can run queries using pandas and SQLAlchemy as it follows:\n",
    "\n",
    "```python\n",
    "sql_df = pd.read_sql_query(\n",
    "    '''\n",
    "        SELECT *\n",
    "        FROM courses\n",
    "        ORDER BY course_id;\n",
    "    ''',\n",
    "    con = sql_engine\n",
    ")\n",
    " \n",
    "# Show query results\n",
    "sql_df\n",
    "```"
   ]
  },
  {
   "cell_type": "markdown",
   "id": "774369e9",
   "metadata": {},
   "source": [
    "### Exercise 1"
   ]
  },
  {
   "cell_type": "markdown",
   "id": "f09c254a",
   "metadata": {},
   "source": [
    "- Get all the courses which are in inactive or draft status."
   ]
  },
  {
   "cell_type": "code",
   "execution_count": null,
   "id": "31e7623d",
   "metadata": {},
   "outputs": [],
   "source": [
    "sql_df = pd.read_sql_query(\n",
    "    '''\n",
    "        YOUR QUERY HERE\n",
    "    ''',\n",
    "    con = sql_engine\n",
    ")\n",
    " \n",
    "# Show query results\n",
    "sql_df"
   ]
  },
  {
   "cell_type": "markdown",
   "id": "3d1aa016",
   "metadata": {},
   "source": [
    "### Exercise 1"
   ]
  },
  {
   "cell_type": "markdown",
   "id": "60fc8fb2",
   "metadata": {},
   "source": [
    "- Get all the courses which are related to `Python` or `Scala`"
   ]
  },
  {
   "cell_type": "code",
   "execution_count": null,
   "id": "2576a582",
   "metadata": {},
   "outputs": [],
   "source": [
    "sql_df = pd.read_sql_query(\n",
    "    '''\n",
    "        YOUR QUERY HERE\n",
    "    ''',\n",
    "    con = sql_engine\n",
    ")\n",
    " \n",
    "# Show query results\n",
    "sql_df"
   ]
  },
  {
   "cell_type": "markdown",
   "id": "35ae8acf",
   "metadata": {},
   "source": [
    "### Exercise 3"
   ]
  },
  {
   "cell_type": "markdown",
   "id": "03f69c08",
   "metadata": {},
   "source": [
    "- Get count of courses by `course_status`"
   ]
  },
  {
   "cell_type": "code",
   "execution_count": null,
   "id": "fd568bbf",
   "metadata": {},
   "outputs": [],
   "source": [
    "sql_df = pd.read_sql_query(\n",
    "    '''\n",
    "        YOUR QUERY HERE\n",
    "    ''',\n",
    "    con = sql_engine\n",
    ")\n",
    " \n",
    "# Show query results\n",
    "sql_df"
   ]
  },
  {
   "cell_type": "markdown",
   "id": "ab0aa3f0",
   "metadata": {},
   "source": [
    "### Exercise 4"
   ]
  },
  {
   "cell_type": "markdown",
   "id": "56163b1e",
   "metadata": {},
   "source": [
    "- Get count of published courses by `course_author`"
   ]
  },
  {
   "cell_type": "code",
   "execution_count": null,
   "id": "1aa33cf2",
   "metadata": {},
   "outputs": [],
   "source": [
    "sql_df = pd.read_sql_query(\n",
    "    '''\n",
    "        YOUR QUERY HERE\n",
    "    ''',\n",
    "    con = sql_engine\n",
    ")\n",
    " \n",
    "# Show query results\n",
    "sql_dfs"
   ]
  },
  {
   "cell_type": "markdown",
   "id": "65388416",
   "metadata": {},
   "source": [
    "### Exercise 5"
   ]
  },
  {
   "cell_type": "markdown",
   "id": "dad0a625",
   "metadata": {},
   "source": [
    "- Get all the `Python` or `Scala` related courses in `draft` status."
   ]
  },
  {
   "cell_type": "code",
   "execution_count": null,
   "id": "320ca8ec",
   "metadata": {},
   "outputs": [],
   "source": [
    "sql_df = pd.read_sql_query(\n",
    "    '''\n",
    "        YOUR QUERY HERE\n",
    "    ''',\n",
    "    con = sql_engine\n",
    ")\n",
    " \n",
    "# Show query results\n",
    "sql_df"
   ]
  },
  {
   "cell_type": "markdown",
   "id": "f16379c6",
   "metadata": {},
   "source": [
    "### Exercise 6"
   ]
  },
  {
   "cell_type": "markdown",
   "id": "5fc98765",
   "metadata": {},
   "source": [
    "- Get the author and count where the author have more than **one published** course."
   ]
  },
  {
   "cell_type": "code",
   "execution_count": null,
   "id": "41bbbfdc",
   "metadata": {},
   "outputs": [],
   "source": [
    "sql_df = pd.read_sql_query(\n",
    "    '''\n",
    "        YOUR QUERY HERE\n",
    "    ''',\n",
    "    con = sql_engine\n",
    ")\n",
    " \n",
    "# Show query results\n",
    "sql_df"
   ]
  }
 ],
 "metadata": {
  "kernelspec": {
   "display_name": "Python 3 (ipykernel)",
   "language": "python",
   "name": "python3"
  },
  "language_info": {
   "codemirror_mode": {
    "name": "ipython",
    "version": 3
   },
   "file_extension": ".py",
   "mimetype": "text/x-python",
   "name": "python",
   "nbconvert_exporter": "python",
   "pygments_lexer": "ipython3",
   "version": "3.11.4"
  }
 },
 "nbformat": 4,
 "nbformat_minor": 5
}
