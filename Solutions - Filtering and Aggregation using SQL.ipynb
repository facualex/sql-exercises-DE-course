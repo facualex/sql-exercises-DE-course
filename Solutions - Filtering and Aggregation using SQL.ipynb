{
 "cells": [
  {
   "cell_type": "markdown",
   "id": "d7e93a37",
   "metadata": {},
   "source": [
    "### Setup"
   ]
  },
  {
   "cell_type": "markdown",
   "id": "b29fa724",
   "metadata": {},
   "source": [
    "#### Load \"dotenv\" extension to use enviroment variables in the Notebook"
   ]
  },
  {
   "cell_type": "code",
   "execution_count": 1,
   "id": "cb515a99",
   "metadata": {},
   "outputs": [],
   "source": [
    "%load_ext dotenv\n",
    "%dotenv"
   ]
  },
  {
   "cell_type": "markdown",
   "id": "760f2823",
   "metadata": {},
   "source": [
    "#### Load required libraries"
   ]
  },
  {
   "cell_type": "code",
   "execution_count": 5,
   "id": "6689a701",
   "metadata": {},
   "outputs": [],
   "source": [
    "from sqlalchemy import create_engine, text\n",
    "import psycopg2 as ps\n",
    "import pandas as pd\n",
    "import os"
   ]
  },
  {
   "cell_type": "markdown",
   "id": "12ec9c88",
   "metadata": {},
   "source": [
    "#### Setup database connection"
   ]
  },
  {
   "cell_type": "markdown",
   "id": "2c9cdba3",
   "metadata": {},
   "source": [
    "Make sure you create a `.env` file in the same directory as this notebook.\n",
    "\n",
    "Your `.env` file should contain the definition of the following variables:\n",
    "- DB_HOSTNAME\n",
    "- DB_PORT\n",
    "- DB_NAME\n",
    "- DB_USER\n",
    "- DB_PASS\n",
    "\n",
    "\n",
    "Example:\n",
    "```\n",
    "DB_HOSTNAME = \"localhost\"\n",
    "DB_PORT = 5432\n",
    "DB_NAME = \"retail_db\"\n",
    "DB_USER = \"retail_user\"\n",
    "DB_PASS = \"retailpassword\"\n",
    "```"
   ]
  },
  {
   "cell_type": "code",
   "execution_count": 6,
   "id": "5247890c",
   "metadata": {},
   "outputs": [],
   "source": [
    "DB_HOST = os.getenv(\"DB_HOSTNAME\")\n",
    "DB_PORT = os.getenv(\"DB_PORT\")\n",
    "DB_NAME = os.getenv(\"DB_NAME\")\n",
    "DB_USER = os.getenv(\"DB_USER\")\n",
    "DB_PASS = os.getenv(\"DB_PASS\")\n",
    "    \n",
    "DB_CONNECTION_URI = \"postgresql://%s:%s@%s:%s/%s\" % (DB_USER, DB_PASS, DB_HOST, DB_PORT, DB_NAME)\n",
    "\n",
    "# Create SQL engine with SQLAlchemy\n",
    "sql_engine = create_engine(DB_CONNECTION_URI)"
   ]
  },
  {
   "cell_type": "markdown",
   "id": "bc3b8904",
   "metadata": {},
   "source": [
    "> You can now execute queries to the database with pandas!"
   ]
  },
  {
   "cell_type": "markdown",
   "id": "71a58305",
   "metadata": {},
   "source": [
    "# Exercises - Filtering and Aggregation"
   ]
  },
  {
   "cell_type": "markdown",
   "id": "1e307db1",
   "metadata": {},
   "source": [
    "Let us take care of exercises related to filtering and aggregations using SQL:\n",
    "\n",
    "- Get all the courses which are in `inactive` or `draft` status.\n",
    "- Get all the courses which are related to `Python` or `Scala`\n",
    "- Get count of courses by `course_status`\n",
    "- Get count of published courses by `course_author`\n",
    "- Get all the `Python`or `Scala` related courses in `draft` status.\n",
    "- Get the author and count where the author have more than **one published** course."
   ]
  },
  {
   "cell_type": "markdown",
   "id": "6d2e0697",
   "metadata": {},
   "source": [
    "## Create and populate the table we are working with."
   ]
  },
  {
   "cell_type": "code",
   "execution_count": 7,
   "id": "c3808af8",
   "metadata": {},
   "outputs": [
    {
     "name": "stderr",
     "output_type": "stream",
     "text": [
      "/var/folders/xn/qgw2zr6n09nfvhn94_y0cwy00000gn/T/ipykernel_71806/3835328181.py:1: RemovedIn20Warning: Deprecated API features detected! These feature(s) are not compatible with SQLAlchemy 2.0. To prevent incompatible upgrades prior to updating applications, ensure requirements files are pinned to \"sqlalchemy<2.0\". Set environment variable SQLALCHEMY_WARN_20=1 to show all deprecation warnings.  Set environment variable SQLALCHEMY_SILENCE_UBER_WARNING=1 to silence this message. (Background on SQLAlchemy 2.0 at: https://sqlalche.me/e/b8d9)\n",
      "  sql_engine.execute('DROP TABLE IF EXISTS courses')\n"
     ]
    },
    {
     "data": {
      "text/plain": [
       "<sqlalchemy.engine.cursor.LegacyCursorResult at 0x119d85f10>"
      ]
     },
     "execution_count": 7,
     "metadata": {},
     "output_type": "execute_result"
    }
   ],
   "source": [
    "sql_engine.execute('DROP TABLE IF EXISTS courses')\n",
    "\n",
    "sql_engine.execute('''\n",
    "    CREATE TABLE courses(\n",
    "        course_id SERIAL PRIMARY KEY,\n",
    "        course_name VARCHAR(60),\n",
    "        course_author VARCHAR(40),\n",
    "        course_status VARCHAR(9),\n",
    "        course_published_dt DATE\n",
    "    )\n",
    "''')\n",
    "\n",
    "sql_engine.execute('''\n",
    "    INSERT INTO courses\n",
    "        (course_name, course_author, course_status, course_published_dt)\n",
    "    VALUES\n",
    "        ('Programming using Python', 'Bob Dillon', 'published', '2020-09-30'),\n",
    "        ('Data Engineering using Python', 'Bob Dillon', 'published', '2020-07-15'),\n",
    "        ('Data Engineering using Scala', 'Elvis Presley', 'draft', null),\n",
    "        ('Programming using Scala', 'Elvis Presley', 'published', '2020-05-12'),\n",
    "        ('Programming using Java', 'Mike Jack', 'inactive', '2020-08-10'),\n",
    "        ('Web Applications - Python Flask', 'Bob Dillon', 'inactive', '2020-07-20'),\n",
    "        ('Web Applications - Java Spring', 'Bob Dillon', 'draft', null),\n",
    "        ('Pipeline Orchestration - Python', 'Bob Dillon', 'draft', null),\n",
    "        ('Streaming Pipelines - Python', 'Bob Dillon', 'published', '2020-10-05'),\n",
    "        ('Web Applications - Scala Play', 'Elvis Presley', 'inactive', '2020-09-30'),\n",
    "        ('Web Applications - Python Django', 'Bob Dillon', 'published', '2020-06-23'),\n",
    "        ('Server Automation - Ansible', 'Uncle Sam', 'published', '2020-07-05')\n",
    "''')"
   ]
  },
  {
   "cell_type": "markdown",
   "id": "975fee07",
   "metadata": {},
   "source": [
    "## Solutions"
   ]
  },
  {
   "cell_type": "markdown",
   "id": "96851e0d",
   "metadata": {},
   "source": [
    "**NOTE:** You can run queries using pandas and SQLAlchemy as it follows:\n",
    "\n",
    "```python\n",
    "sql_df = pd.read_sql_query(\n",
    "    '''\n",
    "        SELECT *\n",
    "        FROM\n",
    "            courses\n",
    "        ORDER BY\n",
    "            course_id;\n",
    "    ''',\n",
    "    con = sql_engine\n",
    ")\n",
    " \n",
    "# Show query results\n",
    "sql_df\n",
    "```"
   ]
  },
  {
   "cell_type": "markdown",
   "id": "774369e9",
   "metadata": {},
   "source": [
    "### Exercise 1"
   ]
  },
  {
   "cell_type": "markdown",
   "id": "f09c254a",
   "metadata": {},
   "source": [
    "- Get all the courses which are in inactive or draft status."
   ]
  },
  {
   "cell_type": "code",
   "execution_count": 17,
   "id": "31e7623d",
   "metadata": {},
   "outputs": [
    {
     "data": {
      "text/html": [
       "<div>\n",
       "<style scoped>\n",
       "    .dataframe tbody tr th:only-of-type {\n",
       "        vertical-align: middle;\n",
       "    }\n",
       "\n",
       "    .dataframe tbody tr th {\n",
       "        vertical-align: top;\n",
       "    }\n",
       "\n",
       "    .dataframe thead th {\n",
       "        text-align: right;\n",
       "    }\n",
       "</style>\n",
       "<table border=\"1\" class=\"dataframe\">\n",
       "  <thead>\n",
       "    <tr style=\"text-align: right;\">\n",
       "      <th></th>\n",
       "      <th>course_id</th>\n",
       "      <th>course_name</th>\n",
       "      <th>course_author</th>\n",
       "      <th>course_status</th>\n",
       "      <th>course_published_dt</th>\n",
       "    </tr>\n",
       "  </thead>\n",
       "  <tbody>\n",
       "    <tr>\n",
       "      <th>0</th>\n",
       "      <td>3</td>\n",
       "      <td>Data Engineering using Scala</td>\n",
       "      <td>Elvis Presley</td>\n",
       "      <td>draft</td>\n",
       "      <td>None</td>\n",
       "    </tr>\n",
       "    <tr>\n",
       "      <th>1</th>\n",
       "      <td>5</td>\n",
       "      <td>Programming using Java</td>\n",
       "      <td>Mike Jack</td>\n",
       "      <td>inactive</td>\n",
       "      <td>2020-08-10</td>\n",
       "    </tr>\n",
       "    <tr>\n",
       "      <th>2</th>\n",
       "      <td>6</td>\n",
       "      <td>Web Applications - Python Flask</td>\n",
       "      <td>Bob Dillon</td>\n",
       "      <td>inactive</td>\n",
       "      <td>2020-07-20</td>\n",
       "    </tr>\n",
       "    <tr>\n",
       "      <th>3</th>\n",
       "      <td>7</td>\n",
       "      <td>Web Applications - Java Spring</td>\n",
       "      <td>Bob Dillon</td>\n",
       "      <td>draft</td>\n",
       "      <td>None</td>\n",
       "    </tr>\n",
       "    <tr>\n",
       "      <th>4</th>\n",
       "      <td>8</td>\n",
       "      <td>Pipeline Orchestration - Python</td>\n",
       "      <td>Bob Dillon</td>\n",
       "      <td>draft</td>\n",
       "      <td>None</td>\n",
       "    </tr>\n",
       "    <tr>\n",
       "      <th>5</th>\n",
       "      <td>10</td>\n",
       "      <td>Web Applications - Scala Play</td>\n",
       "      <td>Elvis Presley</td>\n",
       "      <td>inactive</td>\n",
       "      <td>2020-09-30</td>\n",
       "    </tr>\n",
       "  </tbody>\n",
       "</table>\n",
       "</div>"
      ],
      "text/plain": [
       "   course_id                      course_name  course_author course_status  \\\n",
       "0          3     Data Engineering using Scala  Elvis Presley         draft   \n",
       "1          5           Programming using Java      Mike Jack      inactive   \n",
       "2          6  Web Applications - Python Flask     Bob Dillon      inactive   \n",
       "3          7   Web Applications - Java Spring     Bob Dillon         draft   \n",
       "4          8  Pipeline Orchestration - Python     Bob Dillon         draft   \n",
       "5         10    Web Applications - Scala Play  Elvis Presley      inactive   \n",
       "\n",
       "  course_published_dt  \n",
       "0                None  \n",
       "1          2020-08-10  \n",
       "2          2020-07-20  \n",
       "3                None  \n",
       "4                None  \n",
       "5          2020-09-30  "
      ]
     },
     "execution_count": 17,
     "metadata": {},
     "output_type": "execute_result"
    }
   ],
   "source": [
    "sql_df = pd.read_sql_query(\n",
    "    '''\n",
    "        SELECT *\n",
    "        FROM\n",
    "            courses\n",
    "        WHERE\n",
    "            course_status IN ('inactive', 'draft')\n",
    "    ''',\n",
    "    con = sql_engine\n",
    ")\n",
    " \n",
    "# Show query results\n",
    "sql_df"
   ]
  },
  {
   "cell_type": "markdown",
   "id": "3d1aa016",
   "metadata": {},
   "source": [
    "### Exercise 2"
   ]
  },
  {
   "cell_type": "markdown",
   "id": "60fc8fb2",
   "metadata": {},
   "source": [
    "- Get all the courses which are related to `Python` or `Scala`"
   ]
  },
  {
   "cell_type": "code",
   "execution_count": 20,
   "id": "2576a582",
   "metadata": {},
   "outputs": [
    {
     "data": {
      "text/html": [
       "<div>\n",
       "<style scoped>\n",
       "    .dataframe tbody tr th:only-of-type {\n",
       "        vertical-align: middle;\n",
       "    }\n",
       "\n",
       "    .dataframe tbody tr th {\n",
       "        vertical-align: top;\n",
       "    }\n",
       "\n",
       "    .dataframe thead th {\n",
       "        text-align: right;\n",
       "    }\n",
       "</style>\n",
       "<table border=\"1\" class=\"dataframe\">\n",
       "  <thead>\n",
       "    <tr style=\"text-align: right;\">\n",
       "      <th></th>\n",
       "      <th>course_id</th>\n",
       "      <th>course_name</th>\n",
       "      <th>course_author</th>\n",
       "      <th>course_status</th>\n",
       "      <th>course_published_dt</th>\n",
       "    </tr>\n",
       "  </thead>\n",
       "  <tbody>\n",
       "    <tr>\n",
       "      <th>0</th>\n",
       "      <td>1</td>\n",
       "      <td>Programming using Python</td>\n",
       "      <td>Bob Dillon</td>\n",
       "      <td>published</td>\n",
       "      <td>2020-09-30</td>\n",
       "    </tr>\n",
       "    <tr>\n",
       "      <th>1</th>\n",
       "      <td>2</td>\n",
       "      <td>Data Engineering using Python</td>\n",
       "      <td>Bob Dillon</td>\n",
       "      <td>published</td>\n",
       "      <td>2020-07-15</td>\n",
       "    </tr>\n",
       "    <tr>\n",
       "      <th>2</th>\n",
       "      <td>3</td>\n",
       "      <td>Data Engineering using Scala</td>\n",
       "      <td>Elvis Presley</td>\n",
       "      <td>draft</td>\n",
       "      <td>None</td>\n",
       "    </tr>\n",
       "    <tr>\n",
       "      <th>3</th>\n",
       "      <td>4</td>\n",
       "      <td>Programming using Scala</td>\n",
       "      <td>Elvis Presley</td>\n",
       "      <td>published</td>\n",
       "      <td>2020-05-12</td>\n",
       "    </tr>\n",
       "    <tr>\n",
       "      <th>4</th>\n",
       "      <td>6</td>\n",
       "      <td>Web Applications - Python Flask</td>\n",
       "      <td>Bob Dillon</td>\n",
       "      <td>inactive</td>\n",
       "      <td>2020-07-20</td>\n",
       "    </tr>\n",
       "    <tr>\n",
       "      <th>5</th>\n",
       "      <td>8</td>\n",
       "      <td>Pipeline Orchestration - Python</td>\n",
       "      <td>Bob Dillon</td>\n",
       "      <td>draft</td>\n",
       "      <td>None</td>\n",
       "    </tr>\n",
       "    <tr>\n",
       "      <th>6</th>\n",
       "      <td>9</td>\n",
       "      <td>Streaming Pipelines - Python</td>\n",
       "      <td>Bob Dillon</td>\n",
       "      <td>published</td>\n",
       "      <td>2020-10-05</td>\n",
       "    </tr>\n",
       "    <tr>\n",
       "      <th>7</th>\n",
       "      <td>10</td>\n",
       "      <td>Web Applications - Scala Play</td>\n",
       "      <td>Elvis Presley</td>\n",
       "      <td>inactive</td>\n",
       "      <td>2020-09-30</td>\n",
       "    </tr>\n",
       "    <tr>\n",
       "      <th>8</th>\n",
       "      <td>11</td>\n",
       "      <td>Web Applications - Python Django</td>\n",
       "      <td>Bob Dillon</td>\n",
       "      <td>published</td>\n",
       "      <td>2020-06-23</td>\n",
       "    </tr>\n",
       "  </tbody>\n",
       "</table>\n",
       "</div>"
      ],
      "text/plain": [
       "   course_id                       course_name  course_author course_status  \\\n",
       "0          1          Programming using Python     Bob Dillon     published   \n",
       "1          2     Data Engineering using Python     Bob Dillon     published   \n",
       "2          3      Data Engineering using Scala  Elvis Presley         draft   \n",
       "3          4           Programming using Scala  Elvis Presley     published   \n",
       "4          6   Web Applications - Python Flask     Bob Dillon      inactive   \n",
       "5          8   Pipeline Orchestration - Python     Bob Dillon         draft   \n",
       "6          9      Streaming Pipelines - Python     Bob Dillon     published   \n",
       "7         10     Web Applications - Scala Play  Elvis Presley      inactive   \n",
       "8         11  Web Applications - Python Django     Bob Dillon     published   \n",
       "\n",
       "  course_published_dt  \n",
       "0          2020-09-30  \n",
       "1          2020-07-15  \n",
       "2                None  \n",
       "3          2020-05-12  \n",
       "4          2020-07-20  \n",
       "5                None  \n",
       "6          2020-10-05  \n",
       "7          2020-09-30  \n",
       "8          2020-06-23  "
      ]
     },
     "execution_count": 20,
     "metadata": {},
     "output_type": "execute_result"
    }
   ],
   "source": [
    "sql_df = pd.read_sql_query(\n",
    "    '''\n",
    "        SELECT *\n",
    "        FROM\n",
    "            courses\n",
    "        WHERE\n",
    "            course_name ILIKE '%%Python%%' OR course_name ILIKE '%%Scala%%';\n",
    "    ''',\n",
    "    con = sql_engine\n",
    ")\n",
    " \n",
    "# Show query results\n",
    "sql_df"
   ]
  },
  {
   "cell_type": "markdown",
   "id": "35ae8acf",
   "metadata": {},
   "source": [
    "### Exercise 3"
   ]
  },
  {
   "cell_type": "markdown",
   "id": "03f69c08",
   "metadata": {},
   "source": [
    "- Get count of courses by `course_status`"
   ]
  },
  {
   "cell_type": "code",
   "execution_count": 24,
   "id": "fd568bbf",
   "metadata": {},
   "outputs": [
    {
     "data": {
      "text/html": [
       "<div>\n",
       "<style scoped>\n",
       "    .dataframe tbody tr th:only-of-type {\n",
       "        vertical-align: middle;\n",
       "    }\n",
       "\n",
       "    .dataframe tbody tr th {\n",
       "        vertical-align: top;\n",
       "    }\n",
       "\n",
       "    .dataframe thead th {\n",
       "        text-align: right;\n",
       "    }\n",
       "</style>\n",
       "<table border=\"1\" class=\"dataframe\">\n",
       "  <thead>\n",
       "    <tr style=\"text-align: right;\">\n",
       "      <th></th>\n",
       "      <th>course_status</th>\n",
       "      <th>count</th>\n",
       "    </tr>\n",
       "  </thead>\n",
       "  <tbody>\n",
       "    <tr>\n",
       "      <th>0</th>\n",
       "      <td>published</td>\n",
       "      <td>6</td>\n",
       "    </tr>\n",
       "    <tr>\n",
       "      <th>1</th>\n",
       "      <td>inactive</td>\n",
       "      <td>3</td>\n",
       "    </tr>\n",
       "    <tr>\n",
       "      <th>2</th>\n",
       "      <td>draft</td>\n",
       "      <td>3</td>\n",
       "    </tr>\n",
       "  </tbody>\n",
       "</table>\n",
       "</div>"
      ],
      "text/plain": [
       "  course_status  count\n",
       "0     published      6\n",
       "1      inactive      3\n",
       "2         draft      3"
      ]
     },
     "execution_count": 24,
     "metadata": {},
     "output_type": "execute_result"
    }
   ],
   "source": [
    "sql_df = pd.read_sql_query(\n",
    "    '''\n",
    "        SELECT\n",
    "            course_status,\n",
    "            COUNT(*) AS count\n",
    "        FROM\n",
    "            courses\n",
    "        GROUP BY\n",
    "            course_status;\n",
    "    ''',\n",
    "    con = sql_engine\n",
    ")\n",
    " \n",
    "# Show query results\n",
    "sql_df"
   ]
  },
  {
   "cell_type": "markdown",
   "id": "ab0aa3f0",
   "metadata": {},
   "source": [
    "### Exercise 4"
   ]
  },
  {
   "cell_type": "markdown",
   "id": "56163b1e",
   "metadata": {},
   "source": [
    "- Get count of published courses by `course_author`"
   ]
  },
  {
   "cell_type": "code",
   "execution_count": 42,
   "id": "1aa33cf2",
   "metadata": {},
   "outputs": [
    {
     "data": {
      "text/html": [
       "<div>\n",
       "<style scoped>\n",
       "    .dataframe tbody tr th:only-of-type {\n",
       "        vertical-align: middle;\n",
       "    }\n",
       "\n",
       "    .dataframe tbody tr th {\n",
       "        vertical-align: top;\n",
       "    }\n",
       "\n",
       "    .dataframe thead th {\n",
       "        text-align: right;\n",
       "    }\n",
       "</style>\n",
       "<table border=\"1\" class=\"dataframe\">\n",
       "  <thead>\n",
       "    <tr style=\"text-align: right;\">\n",
       "      <th></th>\n",
       "      <th>course_author</th>\n",
       "      <th>published_courses</th>\n",
       "    </tr>\n",
       "  </thead>\n",
       "  <tbody>\n",
       "    <tr>\n",
       "      <th>0</th>\n",
       "      <td>Bob Dillon</td>\n",
       "      <td>4</td>\n",
       "    </tr>\n",
       "    <tr>\n",
       "      <th>1</th>\n",
       "      <td>Elvis Presley</td>\n",
       "      <td>1</td>\n",
       "    </tr>\n",
       "    <tr>\n",
       "      <th>2</th>\n",
       "      <td>Uncle Sam</td>\n",
       "      <td>1</td>\n",
       "    </tr>\n",
       "  </tbody>\n",
       "</table>\n",
       "</div>"
      ],
      "text/plain": [
       "   course_author  published_courses\n",
       "0     Bob Dillon                  4\n",
       "1  Elvis Presley                  1\n",
       "2      Uncle Sam                  1"
      ]
     },
     "execution_count": 42,
     "metadata": {},
     "output_type": "execute_result"
    }
   ],
   "source": [
    "sql_df = pd.read_sql_query(\n",
    "    '''\n",
    "        SELECT\n",
    "            course_author,\n",
    "            COUNT(course_status) AS published_courses\n",
    "        FROM\n",
    "            courses\n",
    "        WHERE\n",
    "            course_status = 'published'\n",
    "        GROUP BY\n",
    "            course_author,\n",
    "            course_status;\n",
    "    ''',\n",
    "    con = sql_engine\n",
    ")\n",
    " \n",
    "# Show query results\n",
    "sql_df"
   ]
  },
  {
   "cell_type": "markdown",
   "id": "65388416",
   "metadata": {},
   "source": [
    "### Exercise 5"
   ]
  },
  {
   "cell_type": "markdown",
   "id": "dad0a625",
   "metadata": {},
   "source": [
    "- Get all the `Python` or `Scala` related courses in `draft` status."
   ]
  },
  {
   "cell_type": "code",
   "execution_count": 43,
   "id": "320ca8ec",
   "metadata": {},
   "outputs": [
    {
     "data": {
      "text/html": [
       "<div>\n",
       "<style scoped>\n",
       "    .dataframe tbody tr th:only-of-type {\n",
       "        vertical-align: middle;\n",
       "    }\n",
       "\n",
       "    .dataframe tbody tr th {\n",
       "        vertical-align: top;\n",
       "    }\n",
       "\n",
       "    .dataframe thead th {\n",
       "        text-align: right;\n",
       "    }\n",
       "</style>\n",
       "<table border=\"1\" class=\"dataframe\">\n",
       "  <thead>\n",
       "    <tr style=\"text-align: right;\">\n",
       "      <th></th>\n",
       "      <th>course_id</th>\n",
       "      <th>course_name</th>\n",
       "      <th>course_author</th>\n",
       "      <th>course_status</th>\n",
       "      <th>course_published_dt</th>\n",
       "    </tr>\n",
       "  </thead>\n",
       "  <tbody>\n",
       "    <tr>\n",
       "      <th>0</th>\n",
       "      <td>3</td>\n",
       "      <td>Data Engineering using Scala</td>\n",
       "      <td>Elvis Presley</td>\n",
       "      <td>draft</td>\n",
       "      <td>None</td>\n",
       "    </tr>\n",
       "    <tr>\n",
       "      <th>1</th>\n",
       "      <td>8</td>\n",
       "      <td>Pipeline Orchestration - Python</td>\n",
       "      <td>Bob Dillon</td>\n",
       "      <td>draft</td>\n",
       "      <td>None</td>\n",
       "    </tr>\n",
       "  </tbody>\n",
       "</table>\n",
       "</div>"
      ],
      "text/plain": [
       "   course_id                      course_name  course_author course_status  \\\n",
       "0          3     Data Engineering using Scala  Elvis Presley         draft   \n",
       "1          8  Pipeline Orchestration - Python     Bob Dillon         draft   \n",
       "\n",
       "  course_published_dt  \n",
       "0                None  \n",
       "1                None  "
      ]
     },
     "execution_count": 43,
     "metadata": {},
     "output_type": "execute_result"
    }
   ],
   "source": [
    "sql_df = pd.read_sql_query(\n",
    "    '''\n",
    "        SELECT *\n",
    "        FROM\n",
    "            courses\n",
    "        WHERE\n",
    "            course_status = 'draft'\n",
    "        AND\n",
    "            (course_name ILIKE '%%Python%%' OR course_name ILIKE '%%Scala%%');\n",
    "    ''',\n",
    "    con = sql_engine\n",
    ")\n",
    " \n",
    "# Show query results\n",
    "sql_df"
   ]
  },
  {
   "cell_type": "markdown",
   "id": "f16379c6",
   "metadata": {},
   "source": [
    "### Exercise 6"
   ]
  },
  {
   "cell_type": "markdown",
   "id": "5fc98765",
   "metadata": {},
   "source": [
    "- Get the author and count where the author have more than **one published** course."
   ]
  },
  {
   "cell_type": "code",
   "execution_count": 52,
   "id": "41bbbfdc",
   "metadata": {},
   "outputs": [
    {
     "data": {
      "text/html": [
       "<div>\n",
       "<style scoped>\n",
       "    .dataframe tbody tr th:only-of-type {\n",
       "        vertical-align: middle;\n",
       "    }\n",
       "\n",
       "    .dataframe tbody tr th {\n",
       "        vertical-align: top;\n",
       "    }\n",
       "\n",
       "    .dataframe thead th {\n",
       "        text-align: right;\n",
       "    }\n",
       "</style>\n",
       "<table border=\"1\" class=\"dataframe\">\n",
       "  <thead>\n",
       "    <tr style=\"text-align: right;\">\n",
       "      <th></th>\n",
       "      <th>course_author</th>\n",
       "      <th>published_courses</th>\n",
       "    </tr>\n",
       "  </thead>\n",
       "  <tbody>\n",
       "    <tr>\n",
       "      <th>0</th>\n",
       "      <td>Bob Dillon</td>\n",
       "      <td>4</td>\n",
       "    </tr>\n",
       "  </tbody>\n",
       "</table>\n",
       "</div>"
      ],
      "text/plain": [
       "  course_author  published_courses\n",
       "0    Bob Dillon                  4"
      ]
     },
     "execution_count": 52,
     "metadata": {},
     "output_type": "execute_result"
    }
   ],
   "source": [
    "sql_df = pd.read_sql_query(\n",
    "    '''\n",
    "        SELECT\n",
    "            course_author,\n",
    "            COUNT(course_status) AS published_courses\n",
    "        FROM\n",
    "            courses\n",
    "        WHERE\n",
    "            course_status = 'published'\n",
    "        GROUP BY\n",
    "            course_author,\n",
    "            course_status\n",
    "        HAVING\n",
    "            COUNT(course_status) > 1\n",
    "    ''',\n",
    "    con = sql_engine\n",
    ")\n",
    " \n",
    "# Show query results\n",
    "sql_df"
   ]
  }
 ],
 "metadata": {
  "kernelspec": {
   "display_name": "Python 3 (ipykernel)",
   "language": "python",
   "name": "python3"
  },
  "language_info": {
   "codemirror_mode": {
    "name": "ipython",
    "version": 3
   },
   "file_extension": ".py",
   "mimetype": "text/x-python",
   "name": "python",
   "nbconvert_exporter": "python",
   "pygments_lexer": "ipython3",
   "version": "3.11.4"
  }
 },
 "nbformat": 4,
 "nbformat_minor": 5
}
